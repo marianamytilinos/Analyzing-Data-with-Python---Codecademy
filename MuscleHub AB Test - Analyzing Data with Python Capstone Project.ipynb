{
 "cells": [
  {
   "cell_type": "code",
   "execution_count": 1,
   "metadata": {},
   "outputs": [
    {
     "data": {
      "text/plain": [
       "'\\nMuscleHub A/B Test\\n\\nCapstone Project - Analyzing Data with Python - Codecademy\\n\\nDate: March 13, 2022\\n\\nAuthor: Mariana Mytiliños\\n\\n'"
      ]
     },
     "execution_count": 1,
     "metadata": {},
     "output_type": "execute_result"
    }
   ],
   "source": [
    "\"\"\"\n",
    "MuscleHub A/B Test\n",
    "\n",
    "Capstone Project - Analyzing Data with Python - Codecademy\n",
    "\n",
    "Date: March 13, 2022\n",
    "\n",
    "Author: Mariana Mytiliños\n",
    "\n",
    "\"\"\""
   ]
  },
  {
   "cell_type": "code",
   "execution_count": 2,
   "metadata": {},
   "outputs": [],
   "source": [
    "import pandas as pd\n",
    "from matplotlib import pyplot as plt\n",
    "import numpy as np\n",
    "from scipy.stats import chi2_contingency\n",
    "import os \n",
    "\n",
    "user = os.getlogin()"
   ]
  },
  {
   "cell_type": "code",
   "execution_count": 3,
   "metadata": {},
   "outputs": [
    {
     "data": {
      "text/html": [
       "<div>\n",
       "<style scoped>\n",
       "    .dataframe tbody tr th:only-of-type {\n",
       "        vertical-align: middle;\n",
       "    }\n",
       "\n",
       "    .dataframe tbody tr th {\n",
       "        vertical-align: top;\n",
       "    }\n",
       "\n",
       "    .dataframe thead th {\n",
       "        text-align: right;\n",
       "    }\n",
       "</style>\n",
       "<table border=\"1\" class=\"dataframe\">\n",
       "  <thead>\n",
       "    <tr style=\"text-align: right;\">\n",
       "      <th></th>\n",
       "      <th>first_name</th>\n",
       "      <th>last_name</th>\n",
       "      <th>email</th>\n",
       "      <th>gender</th>\n",
       "      <th>purchase_date</th>\n",
       "    </tr>\n",
       "  </thead>\n",
       "  <tbody>\n",
       "    <tr>\n",
       "      <th>0</th>\n",
       "      <td>Roy</td>\n",
       "      <td>Abbott</td>\n",
       "      <td>RoyAbbott32@gmail.com</td>\n",
       "      <td>male</td>\n",
       "      <td>2017-08-18</td>\n",
       "    </tr>\n",
       "    <tr>\n",
       "      <th>1</th>\n",
       "      <td>Roberta</td>\n",
       "      <td>Acevedo</td>\n",
       "      <td>RA8063@gmail.com</td>\n",
       "      <td>female</td>\n",
       "      <td>2017-09-16</td>\n",
       "    </tr>\n",
       "    <tr>\n",
       "      <th>2</th>\n",
       "      <td>Vernon</td>\n",
       "      <td>Acosta</td>\n",
       "      <td>VAcosta1975@gmail.com</td>\n",
       "      <td>male</td>\n",
       "      <td>2017-07-20</td>\n",
       "    </tr>\n",
       "    <tr>\n",
       "      <th>3</th>\n",
       "      <td>Darren</td>\n",
       "      <td>Acosta</td>\n",
       "      <td>DAcosta1996@hotmail.com</td>\n",
       "      <td>male</td>\n",
       "      <td>2017-07-27</td>\n",
       "    </tr>\n",
       "    <tr>\n",
       "      <th>4</th>\n",
       "      <td>Dawn</td>\n",
       "      <td>Adkins</td>\n",
       "      <td>Dawn.Adkins@gmail.com</td>\n",
       "      <td>female</td>\n",
       "      <td>2017-08-24</td>\n",
       "    </tr>\n",
       "  </tbody>\n",
       "</table>\n",
       "</div>"
      ],
      "text/plain": [
       "  first_name last_name                    email  gender purchase_date\n",
       "0        Roy    Abbott    RoyAbbott32@gmail.com    male    2017-08-18\n",
       "1    Roberta   Acevedo         RA8063@gmail.com  female    2017-09-16\n",
       "2     Vernon    Acosta    VAcosta1975@gmail.com    male    2017-07-20\n",
       "3     Darren    Acosta  DAcosta1996@hotmail.com    male    2017-07-27\n",
       "4       Dawn    Adkins    Dawn.Adkins@gmail.com  female    2017-08-24"
      ]
     },
     "execution_count": 3,
     "metadata": {},
     "output_type": "execute_result"
    }
   ],
   "source": [
    "# 1\n",
    "# Import the four csv files as pandas DataFrames and examine them.\n",
    "# Import only the visits from 7-1-17 onwards\n",
    "\n",
    "visits1 = pd.read_csv(r\"C:/Users/\" + user + \"/Downloads/visits.csv\")\n",
    "fitness_tests = pd.read_csv(r\"C:/Users/\" + user + \"/Downloads/fitness_tests.csv\")\n",
    "applications = pd.read_csv(r\"C:/Users/\" + user + \"/Downloads/applications.csv\")\n",
    "purchases = pd.read_csv(r\"C:/Users/\" + user + \"/Downloads/purchases.csv\")\n",
    "\n",
    "visits = visits1[(visits1.visit_date > '7-1-17') | (visits1.visit_date == '7-1-17')]\n",
    "\n",
    "visits.head()\n",
    "fitness_tests.head()\n",
    "applications.head()\n",
    "purchases.head()"
   ]
  },
  {
   "cell_type": "code",
   "execution_count": 4,
   "metadata": {},
   "outputs": [
    {
     "name": "stdout",
     "output_type": "stream",
     "text": [
      "  first_name last_name                   email  gender visit_date  \\\n",
      "0        Kim    Walter   KimWalter58@gmail.com  female     7-1-17   \n",
      "1        Tom   Webster        TW3857@gmail.com    male     7-1-17   \n",
      "2     Edward     Bowen  Edward.Bowen@gmail.com    male     7-1-17   \n",
      "3     Marcus     Bauer  Marcus.Bauer@gmail.com    male     7-1-17   \n",
      "4    Roberta      Best      RB6305@hotmail.com  female     7-1-17   \n",
      "\n",
      "  gender_fitness_tests fitness_test_date gender_applications application_date  \\\n",
      "0               female        2017-07-03                 NaN              NaN   \n",
      "1                 male        2017-07-02                 NaN              NaN   \n",
      "2                  NaN               NaN                male       2017-07-04   \n",
      "3                 male        2017-07-01                male       2017-07-03   \n",
      "4               female        2017-07-02                 NaN              NaN   \n",
      "\n",
      "  gender_purchases purchase_date  \n",
      "0              NaN           NaN  \n",
      "1              NaN           NaN  \n",
      "2             male    2017-07-04  \n",
      "3             male    2017-07-05  \n",
      "4              NaN           NaN  \n"
     ]
    }
   ],
   "source": [
    "# 2\n",
    "# Create and examine a DataFrame \n",
    "visitscomplete = pd.merge(visits, fitness_tests, how='left', left_on=['first_name', 'last_name', 'email'], right_on=['first_name', 'last_name', 'email'], suffixes=['', '_fitness_tests'])\n",
    "visitscomplete2 = pd.merge(visitscomplete, applications, how='left', left_on=['first_name', 'last_name', 'email'], right_on=['first_name', 'last_name', 'email'], suffixes=['', '_applications'])\n",
    "visitscomplete3 = pd.merge(visitscomplete2, purchases, how='left', left_on=['first_name', 'last_name', 'email'], right_on=['first_name', 'last_name', 'email'], suffixes=['', '_purchases'])\n",
    "\n",
    "tests = visitscomplete3[['first_name', 'last_name', 'gender', 'email', 'visit_date', 'fitness_test_date', 'application_date', 'purchase_date']]\n",
    "print(visitscomplete3.head())"
   ]
  },
  {
   "cell_type": "code",
   "execution_count": 5,
   "metadata": {},
   "outputs": [
    {
     "name": "stdout",
     "output_type": "stream",
     "text": [
      "     first_name last_name  gender                       email visit_date  \\\n",
      "0           Kim    Walter  female       KimWalter58@gmail.com     7-1-17   \n",
      "1           Tom   Webster    male            TW3857@gmail.com     7-1-17   \n",
      "2        Edward     Bowen    male      Edward.Bowen@gmail.com     7-1-17   \n",
      "3        Marcus     Bauer    male      Marcus.Bauer@gmail.com     7-1-17   \n",
      "4       Roberta      Best  female          RB6305@hotmail.com     7-1-17   \n",
      "...         ...       ...     ...                         ...        ...   \n",
      "4999     Rachel   Hensley  female   RachelHensley38@gmail.com     9-9-17   \n",
      "5000       Leon    Harmon    male       Leon.Harmon@gmail.com     9-9-17   \n",
      "5001       Andy     Pratt    male       AndyPratt27@gmail.com     9-9-17   \n",
      "5002      Ruben   Nielsen    male  RubenNielsen93@hotmail.com     9-9-17   \n",
      "5003    Charles    Carver    male            CC2490@gmail.com     9-9-17   \n",
      "\n",
      "     fitness_test_date application_date purchase_date test_group  \n",
      "0           2017-07-03              NaN           NaN          A  \n",
      "1           2017-07-02              NaN           NaN          A  \n",
      "2                  NaN       2017-07-04    2017-07-04          B  \n",
      "3           2017-07-01       2017-07-03    2017-07-05          A  \n",
      "4           2017-07-02              NaN           NaN          A  \n",
      "...                ...              ...           ...        ...  \n",
      "4999               NaN              NaN           NaN          B  \n",
      "5000        2017-09-15              NaN           NaN          A  \n",
      "5001        2017-09-15              NaN           NaN          A  \n",
      "5002               NaN       2017-09-13           NaN          B  \n",
      "5003        2017-09-12              NaN           NaN          A  \n",
      "\n",
      "[5004 rows x 9 columns]\n",
      "  test_group  visit_date\n",
      "0          A        2504\n",
      "1          B        2500\n",
      "  test_group  visit_date\n",
      "0          A        2504\n",
      "1          B        2500\n"
     ]
    },
    {
     "name": "stderr",
     "output_type": "stream",
     "text": [
      "<ipython-input-5-559363315aa5>:4: SettingWithCopyWarning: \n",
      "A value is trying to be set on a copy of a slice from a DataFrame.\n",
      "Try using .loc[row_indexer,col_indexer] = value instead\n",
      "\n",
      "See the caveats in the documentation: https://pandas.pydata.org/pandas-docs/stable/user_guide/indexing.html#returning-a-view-versus-a-copy\n",
      "  tests['test_group'] = np.where(tests['fitness_test_date'].isnull(),\"B\", \"A\")\n",
      "<ipython-input-5-559363315aa5>:6: SettingWithCopyWarning: \n",
      "A value is trying to be set on a copy of a slice from a DataFrame.\n",
      "Try using .loc[row_indexer,col_indexer] = value instead\n",
      "\n",
      "See the caveats in the documentation: https://pandas.pydata.org/pandas-docs/stable/user_guide/indexing.html#returning-a-view-versus-a-copy\n",
      "  tests['test_number'] = np.where(tests['test_group'] == 'A',1, 2)\n"
     ]
    },
    {
     "data": {
      "image/png": "[encoded data removed]",
      "text/plain": [
       "<Figure size 432x288 with 1 Axes>"
      ]
     },
     "metadata": {},
     "output_type": "display_data"
    }
   ],
   "source": [
    "# 3\n",
    "# Create a visualization of the proportion that each test group represents\n",
    "\n",
    "tests['test_group'] = np.where(tests['fitness_test_date'].isnull(),\"B\", \"A\")\n",
    "print(tests)\n",
    "tests['test_number'] = np.where(tests['test_group'] == 'A',1, 2)\n",
    "\n",
    "countofeachgroup = tests.groupby(['test_group']).visit_date.count().reset_index()\n",
    "print(countofeachgroup)\n",
    "\n",
    "countofeachgroupdf = pd.DataFrame(countofeachgroup)\n",
    "print(countofeachgroupdf)\n",
    "\n",
    "plt.pie(countofeachgroupdf.visit_date, labels=countofeachgroupdf.test_group, autopct='%0.1f%%')\n",
    "plt.legend()\n",
    "plt.axis('equal')\n",
    "plt.show()"
   ]
  },
  {
   "cell_type": "code",
   "execution_count": 17,
   "metadata": {},
   "outputs": [
    {
     "name": "stdout",
     "output_type": "stream",
     "text": [
      "  test_group  application  no_application  total  % of application\n",
      "0          A          250            2254   2504          9.984026\n",
      "1          B          325            2175   2500         13.000000\n"
     ]
    }
   ],
   "source": [
    "# 4\n",
    "# Calculate application completion percentage\n",
    "tests['completed_application'] = np.where(tests['application_date'].isnull(),\"No Application\", \"Application\")\n",
    "\n",
    "countofapplication = tests.groupby(['completed_application', 'test_group']).visit_date.count().reset_index()\n",
    "\n",
    "countofapplicationdf = pd.DataFrame(countofapplication)\n",
    "\n",
    "countofapplication_pivot = countofapplicationdf.pivot(columns='completed_application',\n",
    "         index='test_group').reset_index()\n",
    "\n",
    "countofapplication_pivotdf = pd.DataFrame(countofapplication_pivot)\n",
    "\n",
    "countofapplication_pivotdf.columns = ['test_group', 'application', 'no_application']\n",
    "\n",
    "countofapplication_pivotdf['total'] = countofapplication_pivotdf['application'] + countofapplication_pivotdf['no_application']\n",
    "\n",
    "countofapplication_pivotdf['% of application'] = (countofapplication_pivotdf['application'] / countofapplication_pivotdf['total'])*100\n",
    "print(countofapplication_pivotdf)\n",
    "\n",
    "countofapplication_pivotdf.to_csv(r\"C:/Users/\" + user + \"/Downloads/countofapplication_pivot.csv\")"
   ]
  },
  {
   "cell_type": "code",
   "execution_count": 7,
   "metadata": {},
   "outputs": [
    {
     "name": "stdout",
     "output_type": "stream",
     "text": [
      "0.0009647827600722304\n"
     ]
    }
   ],
   "source": [
    "# 5\n",
    "# Having calculated the difference in who turned in an application between groups, determine if this difference is statistically significant.\n",
    "#Created contingency table. Calculate the p-value. \n",
    "contingency = [[250, 2254],\n",
    "               [325, 2175]]\n",
    "contingencyabtest = chi2_contingency(contingency)\n",
    "pvalue = contingencyabtest[1]\n",
    "print(pvalue)\n",
    "\n",
    "#pvalue = 0.0009648 < 0.05\n",
    "# Since the pvalue is less than 0.05, we reject the null hypothesis: There is a significant difference between the visitors in group A and group B that turned in an application."
   ]
  },
  {
   "cell_type": "code",
   "execution_count": 16,
   "metadata": {},
   "outputs": [
    {
     "name": "stdout",
     "output_type": "stream",
     "text": [
      "  ab_test_group  member  not_member  total  %_of_purchases\n",
      "0             A     200          50    250       80.000000\n",
      "1             B     250          75    325       76.923077\n"
     ]
    }
   ],
   "source": [
    "# 6\n",
    "# Of those who picked up an application, how many purchased a membership? Calculate purchase percentage of those who picked up an application\n",
    "tests['is_member'] = np.where(tests['purchase_date'].isnull(),\"Not Member\", \"Member\")\n",
    "\n",
    "tests2 = tests[tests['completed_application'] == 'Application']\n",
    "\n",
    "just_apps = tests2.groupby(['is_member', 'test_group']).visit_date.count().reset_index()\n",
    "\n",
    "just_appsdf = pd.DataFrame(just_apps)\n",
    "\n",
    "just_apps_pivot = just_appsdf.pivot(columns='is_member',\n",
    "         index='test_group').reset_index()\n",
    "\n",
    "just_apps_pivotdf = pd.DataFrame(just_apps_pivot)\n",
    "\n",
    "just_apps_pivotdf.columns = ['ab_test_group', 'member', 'not_member']\n",
    "\n",
    "just_apps_pivotdf['total'] = just_apps_pivotdf['member'] + just_apps_pivotdf['not_member']\n",
    "\n",
    "just_apps_pivotdf['%_of_purchases'] = (just_apps_pivotdf['member'] / just_apps_pivotdf['total'])*100\n",
    "print(just_apps_pivotdf)\n",
    "\n",
    "just_apps_pivotdf.to_csv(r\"C:/Users/\" + user + \"/Downloads/just_apps_pivot.csv\")"
   ]
  },
  {
   "cell_type": "code",
   "execution_count": 9,
   "metadata": {},
   "outputs": [],
   "source": [
    "# 7\n",
    "# Calculate the p-value\n",
    "\"\"\"Calculate if the difference between the following groups is statistically significant:\n",
    "The customers that picked up an application and took a fitness test.\n",
    "The customers that did not take a fitness test and picked up an application.\"\"\"\n",
    "#Created contingency table\n",
    "contingency2 = [[200, 50],\n",
    "               [250, 75]]\n",
    "contingencyabtest2 = chi2_contingency(contingency2)\n",
    "pvalue2 = contingencyabtest2[1]\n",
    "#print(pvalue2)\n",
    "#pvalue is 0.4325 and since it's > 0.05, we can accept the null hypothesis: There isn't a significant difference in the purchase of memberships between visitors in group A and group B."
   ]
  },
  {
   "cell_type": "code",
   "execution_count": 15,
   "metadata": {},
   "outputs": [
    {
     "name": "stdout",
     "output_type": "stream",
     "text": [
      "  ab_test_group  member  not_member  total  %_of_purchases\n",
      "0             A     200        2304   2504         7.98722\n",
      "1             B     250        2250   2500        10.00000\n"
     ]
    }
   ],
   "source": [
    "# 8\n",
    "# Calculate percentage of ALL visitors who\n",
    "# purchased memberships\n",
    "\n",
    "all_visitors = tests.groupby(['is_member', 'test_group']).visit_date.count().reset_index()\n",
    "\n",
    "all_visitorsdf = pd.DataFrame(all_visitors)\n",
    "\n",
    "all_visitors_pivot = all_visitorsdf.pivot(columns='is_member',\n",
    "         index='test_group').reset_index()\n",
    "\n",
    "all_visitors_pivotdf = pd.DataFrame(all_visitors_pivot)\n",
    "\n",
    "all_visitors_pivotdf.columns = ['ab_test_group', 'member', 'not_member']\n",
    "\n",
    "all_visitors_pivotdf['total'] = all_visitors_pivotdf['member'] + all_visitors_pivotdf['not_member']\n",
    "\n",
    "all_visitors_pivotdf['%_of_purchases'] = (all_visitors_pivotdf['member'] / all_visitors_pivotdf['total'])*100\n",
    "print(all_visitors_pivotdf)\n",
    "\n",
    "all_visitors_pivotdf.to_csv(r\"C:/Users/\" + user + \"/Downloads/all_visitors_pivot.csv\")\n",
    "\n",
    "#print(percentofvisitorswhopurchased)\n",
    "#8.993%"
   ]
  },
  {
   "cell_type": "code",
   "execution_count": 11,
   "metadata": {},
   "outputs": [
    {
     "name": "stdout",
     "output_type": "stream",
     "text": [
      "0.014724114645783203\n"
     ]
    }
   ],
   "source": [
    "# 9\n",
    "# Calculate the p-value\n",
    "\"\"\"Determine if there is a significant difference in memberships between Group A and Group B.\"\"\"\n",
    "#Created contingency table\n",
    "contingency3 = [[200, 2304],\n",
    "               [250, 2250]]\n",
    "contingencyabtest3 = chi2_contingency(contingency3)\n",
    "pvalue3 = contingencyabtest3[1]\n",
    "print(pvalue3)\n",
    "\n",
    "#pvalue is 0.0147, which is < 0.05. The difference in memberships between group A and group B is significant. Given this, we can reject the null hypothesis: There is a significant difference in the purchase of memberships between visitors in group A and group B."
   ]
  },
  {
   "cell_type": "code",
   "execution_count": 29,
   "metadata": {},
   "outputs": [
    {
     "data": {
      "image/png": "[encoded data removed]",
      "text/plain": [
       "<Figure size 288x288 with 1 Axes>"
      ]
     },
     "metadata": {
      "needs_background": "light"
     },
     "output_type": "display_data"
    }
   ],
   "source": [
    "# 10\n",
    "# Create visualizations\n",
    "#Percent of visitors who apply\n",
    "plt.figure(figsize=(4,4))\n",
    "ax = plt.subplot()\n",
    "plt.bar(range(len(countofapplication_pivotdf['% of application'])),countofapplication_pivotdf['% of application'].values, color='darkgreen')\n",
    "ax.set_xticks(range(len(countofapplication_pivotdf['test_group'])))\n",
    "ax.set_xticklabels(countofapplication_pivotdf['test_group'].values)\n",
    "plt.xlabel('Test group')\n",
    "plt.title('Percent of visitors who apply')\n",
    "plt.show()"
   ]
  },
  {
   "cell_type": "code",
   "execution_count": 30,
   "metadata": {},
   "outputs": [
    {
     "name": "stderr",
     "output_type": "stream",
     "text": [
      "No handles with labels found to put in legend.\n"
     ]
    },
    {
     "data": {
      "image/png": "[encoded data removed]",
      "text/plain": [
       "<Figure size 288x288 with 1 Axes>"
      ]
     },
     "metadata": {
      "needs_background": "light"
     },
     "output_type": "display_data"
    }
   ],
   "source": [
    "#Percent of applicants who purchase a membership\n",
    "plt.figure(figsize=(4,4))\n",
    "ax = plt.subplot()\n",
    "plt.bar(range(len(just_apps_pivotdf['%_of_purchases'])),just_apps_pivotdf['%_of_purchases'].values, color='darkblue')\n",
    "ax.set_xticks(range(len(just_apps_pivotdf['ab_test_group'])))\n",
    "ax.set_xticklabels(just_apps_pivotdf['ab_test_group'].values)\n",
    "plt.legend()\n",
    "plt.xlabel('Test group')\n",
    "plt.title('Percent of applicants who purchase a membership')\n",
    "plt.show()"
   ]
  },
  {
   "cell_type": "code",
   "execution_count": 31,
   "metadata": {},
   "outputs": [
    {
     "data": {
      "image/png": "[encoded data removed]",
      "text/plain": [
       "<Figure size 288x288 with 1 Axes>"
      ]
     },
     "metadata": {
      "needs_background": "light"
     },
     "output_type": "display_data"
    }
   ],
   "source": [
    "#Percent of visitors who purchase a membership\n",
    "plt.figure(figsize=(4,4))\n",
    "ax = plt.subplot()\n",
    "plt.bar(range(len(all_visitors_pivotdf['%_of_purchases'])),all_visitors_pivotdf['%_of_purchases'].values, color='forestgreen')\n",
    "ax.set_xticks(range(len(all_visitors_pivotdf['ab_test_group'])))\n",
    "ax.set_xticklabels(all_visitors_pivotdf['ab_test_group'].values)\n",
    "plt.xlabel('Test group')\n",
    "plt.title('Percent of visitors who purchase a membership')\n",
    "plt.show()"
   ]
  }
 ],
 "metadata": {
  "interpreter": {
   "hash": "477180c4993d922ed29823b77612ca7825208eb41751a273dc67844afc52b120"
  },
  "kernelspec": {
   "display_name": "Python 3.8.8 ('base')",
   "language": "python",
   "name": "python3"
  },
  "language_info": {
   "codemirror_mode": {
    "name": "ipython",
    "version": 3
   },
   "file_extension": ".py",
   "mimetype": "text/x-python",
   "name": "python",
   "nbconvert_exporter": "python",
   "pygments_lexer": "ipython3",
   "version": "3.8.8"
  },
  "orig_nbformat": 4
 },
 "nbformat": 4,
 "nbformat_minor": 2
}
