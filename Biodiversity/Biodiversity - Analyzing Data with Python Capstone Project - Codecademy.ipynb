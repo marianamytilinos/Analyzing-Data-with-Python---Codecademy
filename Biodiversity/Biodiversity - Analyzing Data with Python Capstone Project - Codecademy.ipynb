{
 "cells": [
  {
   "cell_type": "code",
   "execution_count": 2,
   "metadata": {},
   "outputs": [
    {
     "data": {
      "text/plain": [
       "' \\nBiodiversity\\n\\nCapstone Project 1 - Analyzing Data with Python - Codecademy\\n\\nDate: March 11, 2022\\n\\nAuthor: Mariana Mytiliños\\n\\n'"
      ]
     },
     "execution_count": 2,
     "metadata": {},
     "output_type": "execute_result"
    }
   ],
   "source": [
    "\"\"\" \n",
    "\n",
    "Biodiversity\n",
    "\n",
    "Capstone Project 1 - Analyzing Data with Python - Codecademy\n",
    "\n",
    "Date: March 11, 2022\n",
    "\n",
    "Author: Mariana Mytiliños\n",
    "\n",
    "\"\"\" "
   ]
  },
  {
   "cell_type": "code",
   "execution_count": 3,
   "metadata": {},
   "outputs": [],
   "source": [
    "from matplotlib import pyplot as plt\n",
    "import pandas as pd\n",
    "from scipy.stats import chi2_contingency\n",
    "import os\n",
    "\n",
    "user = os.getlogin()"
   ]
  },
  {
   "cell_type": "code",
   "execution_count": 4,
   "metadata": {},
   "outputs": [
    {
     "data": {
      "text/html": [
       "<div>\n",
       "<style scoped>\n",
       "    .dataframe tbody tr th:only-of-type {\n",
       "        vertical-align: middle;\n",
       "    }\n",
       "\n",
       "    .dataframe tbody tr th {\n",
       "        vertical-align: top;\n",
       "    }\n",
       "\n",
       "    .dataframe thead th {\n",
       "        text-align: right;\n",
       "    }\n",
       "</style>\n",
       "<table border=\"1\" class=\"dataframe\">\n",
       "  <thead>\n",
       "    <tr style=\"text-align: right;\">\n",
       "      <th></th>\n",
       "      <th>category</th>\n",
       "      <th>scientific_name</th>\n",
       "      <th>common_names</th>\n",
       "      <th>conservation_status</th>\n",
       "    </tr>\n",
       "  </thead>\n",
       "  <tbody>\n",
       "    <tr>\n",
       "      <th>0</th>\n",
       "      <td>Mammal</td>\n",
       "      <td>Clethrionomys gapperi gapperi</td>\n",
       "      <td>Gapper's Red-Backed Vole</td>\n",
       "      <td>NaN</td>\n",
       "    </tr>\n",
       "    <tr>\n",
       "      <th>1</th>\n",
       "      <td>Mammal</td>\n",
       "      <td>Bos bison</td>\n",
       "      <td>American Bison, Bison</td>\n",
       "      <td>NaN</td>\n",
       "    </tr>\n",
       "    <tr>\n",
       "      <th>2</th>\n",
       "      <td>Mammal</td>\n",
       "      <td>Bos taurus</td>\n",
       "      <td>Aurochs, Aurochs, Domestic Cattle (Feral), Dom...</td>\n",
       "      <td>NaN</td>\n",
       "    </tr>\n",
       "    <tr>\n",
       "      <th>3</th>\n",
       "      <td>Mammal</td>\n",
       "      <td>Ovis aries</td>\n",
       "      <td>Domestic Sheep, Mouflon, Red Sheep, Sheep (Feral)</td>\n",
       "      <td>NaN</td>\n",
       "    </tr>\n",
       "    <tr>\n",
       "      <th>4</th>\n",
       "      <td>Mammal</td>\n",
       "      <td>Cervus elaphus</td>\n",
       "      <td>Wapiti Or Elk</td>\n",
       "      <td>NaN</td>\n",
       "    </tr>\n",
       "  </tbody>\n",
       "</table>\n",
       "</div>"
      ],
      "text/plain": [
       "  category                scientific_name  \\\n",
       "0   Mammal  Clethrionomys gapperi gapperi   \n",
       "1   Mammal                      Bos bison   \n",
       "2   Mammal                     Bos taurus   \n",
       "3   Mammal                     Ovis aries   \n",
       "4   Mammal                 Cervus elaphus   \n",
       "\n",
       "                                        common_names conservation_status  \n",
       "0                           Gapper's Red-Backed Vole                 NaN  \n",
       "1                              American Bison, Bison                 NaN  \n",
       "2  Aurochs, Aurochs, Domestic Cattle (Feral), Dom...                 NaN  \n",
       "3  Domestic Sheep, Mouflon, Red Sheep, Sheep (Feral)                 NaN  \n",
       "4                                      Wapiti Or Elk                 NaN  "
      ]
     },
     "execution_count": 4,
     "metadata": {},
     "output_type": "execute_result"
    }
   ],
   "source": [
    "species = pd.read_csv(r\"C:/Users/\" + user + \"/Downloads/species_info.csv\")\n",
    "species.head()"
   ]
  },
  {
   "cell_type": "code",
   "execution_count": 5,
   "metadata": {},
   "outputs": [
    {
     "name": "stdout",
     "output_type": "stream",
     "text": [
      "7\n"
     ]
    }
   ],
   "source": [
    "#How many different species are in the species dataframe?\n",
    "#Answer: 7\n",
    "\n",
    "numberofspecies = species['category'].nunique()\n",
    "print(numberofspecies)"
   ]
  },
  {
   "cell_type": "code",
   "execution_count": 6,
   "metadata": {},
   "outputs": [
    {
     "name": "stdout",
     "output_type": "stream",
     "text": [
      "['Mammal' 'Bird' 'Reptile' 'Amphibian' 'Fish' 'Vascular Plant'\n",
      " 'Nonvascular Plant']\n"
     ]
    }
   ],
   "source": [
    "#What are the different values of category in species?\n",
    "\n",
    "species_categories = species['category'].unique()\n",
    "print(species_categories)\n"
   ]
  },
  {
   "cell_type": "code",
   "execution_count": 7,
   "metadata": {},
   "outputs": [
    {
     "name": "stdout",
     "output_type": "stream",
     "text": [
      "[nan 'Species of Concern' 'Endangered' 'Threatened' 'In Recovery']\n"
     ]
    }
   ],
   "source": [
    "#What are the different values of conservation status?\n",
    "\n",
    "species_conservationstatus = species['conservation_status'].unique()\n",
    "print(species_conservationstatus)"
   ]
  },
  {
   "cell_type": "code",
   "execution_count": 8,
   "metadata": {},
   "outputs": [
    {
     "name": "stdout",
     "output_type": "stream",
     "text": [
      "conservation_status\n",
      "Endangered              16\n",
      "In Recovery              4\n",
      "No Intervention       5633\n",
      "Species of Concern     161\n",
      "Threatened              10\n",
      "Name: scientific_name, dtype: int64\n"
     ]
    }
   ],
   "source": [
    "#Fill in the NAs to include species that don't require any type of protection\n",
    "\n",
    "species['conservation_status'].fillna('No Intervention', inplace=True)\n",
    "\n",
    "#Count how many of the species meet each of the conservation status\n",
    "\n",
    "conservationstatus = species.groupby('conservation_status').scientific_name.count()\n",
    "print(conservationstatus)"
   ]
  },
  {
   "cell_type": "code",
   "execution_count": 9,
   "metadata": {},
   "outputs": [
    {
     "name": "stdout",
     "output_type": "stream",
     "text": [
      "5824\n",
      "category\n",
      "Amphibian              80\n",
      "Bird                  521\n",
      "Fish                  127\n",
      "Mammal                214\n",
      "Nonvascular Plant     333\n",
      "Reptile                79\n",
      "Vascular Plant       4470\n",
      "Name: scientific_name, dtype: int64\n"
     ]
    }
   ],
   "source": [
    "#Count how many species exist for each category\n",
    "\n",
    "sumspecies = species.scientific_name.count()\n",
    "speciesbycategory = species.groupby('category').scientific_name.count()\n",
    "print(sumspecies)\n",
    "print(speciesbycategory)"
   ]
  },
  {
   "cell_type": "code",
   "execution_count": 10,
   "metadata": {},
   "outputs": [],
   "source": [
    "#Sort the data by scientific name, in order to prepare the data for creating a bar chart of conservation status by species\n",
    "\n",
    "protection_counts = species.groupby('conservation_status')\\\n",
    "    .scientific_name.nunique().reset_index()\\\n",
    "    .sort_values(by='scientific_name')\n"
   ]
  },
  {
   "cell_type": "code",
   "execution_count": 39,
   "metadata": {},
   "outputs": [
    {
     "data": {
      "image/png": "[encoded data removed]",
      "text/plain": [
       "<Figure size 720x288 with 1 Axes>"
      ]
     },
     "metadata": {
      "needs_background": "light"
     },
     "output_type": "display_data"
    },
    {
     "data": {
      "text/plain": [
       "<Figure size 432x288 with 0 Axes>"
      ]
     },
     "metadata": {},
     "output_type": "display_data"
    }
   ],
   "source": [
    "#Bar chart of conservation status by species\n",
    "\n",
    "plt.figure(figsize=(10,4))\n",
    "ax = plt.subplot()\n",
    "plt.bar(range(len(protection_counts.scientific_name)),protection_counts.scientific_name.values, color = 'green')\n",
    "ax.set_xticks(range(len(protection_counts.conservation_status)))\n",
    "ax.set_xticklabels(protection_counts.conservation_status.values)\n",
    "plt.ylabel('Number of Species')\n",
    "plt.title('Conservation Status by Species')\n",
    "plt.show()\n",
    "\n",
    "plt.savefig(r\"C:/Users/\" + user + \"/Downloads/conservationstatus_barchart.png\")"
   ]
  },
  {
   "cell_type": "code",
   "execution_count": 12,
   "metadata": {},
   "outputs": [
    {
     "name": "stdout",
     "output_type": "stream",
     "text": [
      "  category                scientific_name  \\\n",
      "0   Mammal  Clethrionomys gapperi gapperi   \n",
      "1   Mammal                      Bos bison   \n",
      "2   Mammal                     Bos taurus   \n",
      "3   Mammal                     Ovis aries   \n",
      "4   Mammal                 Cervus elaphus   \n",
      "\n",
      "                                        common_names conservation_status  \\\n",
      "0                           Gapper's Red-Backed Vole     No Intervention   \n",
      "1                              American Bison, Bison     No Intervention   \n",
      "2  Aurochs, Aurochs, Domestic Cattle (Feral), Dom...     No Intervention   \n",
      "3  Domestic Sheep, Mouflon, Red Sheep, Sheep (Feral)     No Intervention   \n",
      "4                                      Wapiti Or Elk     No Intervention   \n",
      "\n",
      "   is_protected  \n",
      "0         False  \n",
      "1         False  \n",
      "2         False  \n",
      "3         False  \n",
      "4         False  \n"
     ]
    }
   ],
   "source": [
    "#Identify protected species\n",
    "\n",
    "species['is_protected'] = species.conservation_status.apply(lambda x: True if x != \"No Intervention\" else False)\n",
    "print(species.head())"
   ]
  },
  {
   "cell_type": "code",
   "execution_count": 13,
   "metadata": {},
   "outputs": [
    {
     "name": "stdout",
     "output_type": "stream",
     "text": [
      "conservation_status           category  Endangered  In Recovery  \\\n",
      "0                            Amphibian         1.0          NaN   \n",
      "1                                 Bird         4.0          3.0   \n",
      "2                                 Fish         3.0          NaN   \n",
      "3                               Mammal         6.0          1.0   \n",
      "4                    Nonvascular Plant         NaN          NaN   \n",
      "5                              Reptile         NaN          NaN   \n",
      "6                       Vascular Plant         1.0          NaN   \n",
      "\n",
      "conservation_status  No Intervention  Species of Concern  Threatened  \n",
      "0                               72.0                 4.0         2.0  \n",
      "1                              413.0                68.0         NaN  \n",
      "2                              115.0                 4.0         4.0  \n",
      "3                              146.0                22.0         2.0  \n",
      "4                              328.0                 5.0         NaN  \n",
      "5                               73.0                 5.0         NaN  \n",
      "6                             4216.0                43.0         2.0  \n"
     ]
    }
   ],
   "source": [
    "#Calculate percent of conservation status\n",
    "\n",
    "conservationstatus_counts = species.groupby(['category', 'conservation_status']).scientific_name.nunique().reset_index()\n",
    "conservationstatus_pivot = conservationstatus_counts.pivot(columns='conservation_status', index='category', values='scientific_name').reset_index()\n",
    "print(conservationstatus_pivot)"
   ]
  },
  {
   "cell_type": "code",
   "execution_count": 14,
   "metadata": {},
   "outputs": [
    {
     "name": "stdout",
     "output_type": "stream",
     "text": [
      "    category  is_protected  scientific_name\n",
      "0  Amphibian         False               72\n",
      "1  Amphibian          True                7\n",
      "2       Bird         False              413\n",
      "3       Bird          True               75\n",
      "4       Fish         False              115\n"
     ]
    }
   ],
   "source": [
    "#Count the unique scientific names in each grouping\n",
    "\n",
    "category_counts = species.groupby(['category', 'is_protected']).scientific_name.nunique().reset_index()\n",
    "print(category_counts.head())"
   ]
  },
  {
   "cell_type": "code",
   "execution_count": 15,
   "metadata": {},
   "outputs": [
    {
     "name": "stdout",
     "output_type": "stream",
     "text": [
      "is_protected           category  False  True\n",
      "0                     Amphibian     72     7\n",
      "1                          Bird    413    75\n",
      "2                          Fish    115    11\n",
      "3                        Mammal    146    30\n",
      "4             Nonvascular Plant    328     5\n",
      "5                       Reptile     73     5\n",
      "6                Vascular Plant   4216    46\n"
     ]
    }
   ],
   "source": [
    "#Pivot data\n",
    "\n",
    "category_pivot = category_counts.pivot(columns='is_protected', index='category', values='scientific_name').reset_index()\n",
    "print(category_pivot)"
   ]
  },
  {
   "cell_type": "code",
   "execution_count": 16,
   "metadata": {},
   "outputs": [
    {
     "name": "stdout",
     "output_type": "stream",
     "text": [
      "            category  not_protected  protected\n",
      "0          Amphibian             72          7\n",
      "1               Bird            413         75\n",
      "2               Fish            115         11\n",
      "3             Mammal            146         30\n",
      "4  Nonvascular Plant            328          5\n"
     ]
    }
   ],
   "source": [
    "#Rename columns\n",
    "\n",
    "category_pivot.columns = ['category', 'not_protected', 'protected']\n",
    "print(category_pivot.head())"
   ]
  },
  {
   "cell_type": "code",
   "execution_count": 17,
   "metadata": {},
   "outputs": [
    {
     "name": "stdout",
     "output_type": "stream",
     "text": [
      "            category  not_protected  protected  percent_protected\n",
      "0          Amphibian             72          7           8.860759\n",
      "1               Bird            413         75          15.368852\n",
      "2               Fish            115         11           8.730159\n",
      "3             Mammal            146         30          17.045455\n",
      "4  Nonvascular Plant            328          5           1.501502\n",
      "5            Reptile             73          5           6.410256\n",
      "6     Vascular Plant           4216         46           1.079305\n"
     ]
    }
   ],
   "source": [
    "#Calculate the % of protected species\n",
    "\n",
    "category_pivot['percent_protected'] = (category_pivot.protected / (category_pivot.protected + category_pivot.not_protected)) * 100\n",
    "print(category_pivot)"
   ]
  },
  {
   "cell_type": "code",
   "execution_count": 18,
   "metadata": {},
   "outputs": [],
   "source": [
    "#Will perform a chi squared test (since we are comparing two samples of categorical data) to check if the difference in protection between mammals and birds is significant \n",
    "\n",
    "#Create a contingency table for the chi squared test, which contains the number of protected and non protected mammals, and the number of protected and non protected birds\n",
    "\n",
    "contingency_mammalsandbirds = [[30, 146], [75, 413]]"
   ]
  },
  {
   "cell_type": "code",
   "execution_count": 19,
   "metadata": {},
   "outputs": [
    {
     "name": "stdout",
     "output_type": "stream",
     "text": [
      "0.6875948096661336\n"
     ]
    }
   ],
   "source": [
    "#Run the chi2 test between the protection of mammals and birds\n",
    "\n",
    "chi2_test = chi2_contingency(contingency_mammalsandbirds)\n",
    "pvalue = chi2_test[1]\n",
    "print(pvalue)\n",
    "\n",
    "#Since the pvalue is over 0.05, it means the difference between the protection of birds and mammals is not significant"
   ]
  },
  {
   "cell_type": "code",
   "execution_count": 20,
   "metadata": {},
   "outputs": [
    {
     "name": "stdout",
     "output_type": "stream",
     "text": [
      "0.12757669693198975\n"
     ]
    }
   ],
   "source": [
    "#Will perform a chi squared test to check if the difference in protection between mammals and amphibians is significant \n",
    "\n",
    "contingency_mammalsandamphibians = [[30, 146], [7, 72]]\n",
    "chi2_test = chi2_contingency(contingency_mammalsandamphibians)\n",
    "pvalue = chi2_test[1]\n",
    "print(pvalue)"
   ]
  },
  {
   "cell_type": "code",
   "execution_count": 21,
   "metadata": {},
   "outputs": [
    {
     "name": "stdout",
     "output_type": "stream",
     "text": [
      "0.03835559022969898\n"
     ]
    }
   ],
   "source": [
    "#Will perform a chi squared test to check if the difference in protection between mammals and reptiles is significant \n",
    "\n",
    "contingency_mammalsandreptiles = [[30, 146], [5, 73]]\n",
    "chi2_test = chi2_contingency(contingency_mammalsandreptiles)\n",
    "pvalue = chi2_test[1]\n",
    "print(pvalue)\n",
    "\n",
    "#Since the pvalue is less than 0.05, it means the difference between the protection of mammals and reptiles is significant"
   ]
  },
  {
   "cell_type": "code",
   "execution_count": 22,
   "metadata": {},
   "outputs": [
    {
     "data": {
      "text/html": [
       "<div>\n",
       "<style scoped>\n",
       "    .dataframe tbody tr th:only-of-type {\n",
       "        vertical-align: middle;\n",
       "    }\n",
       "\n",
       "    .dataframe tbody tr th {\n",
       "        vertical-align: top;\n",
       "    }\n",
       "\n",
       "    .dataframe thead th {\n",
       "        text-align: right;\n",
       "    }\n",
       "</style>\n",
       "<table border=\"1\" class=\"dataframe\">\n",
       "  <thead>\n",
       "    <tr style=\"text-align: right;\">\n",
       "      <th></th>\n",
       "      <th>scientific_name</th>\n",
       "      <th>park_name</th>\n",
       "      <th>observations</th>\n",
       "    </tr>\n",
       "  </thead>\n",
       "  <tbody>\n",
       "    <tr>\n",
       "      <th>0</th>\n",
       "      <td>Vicia benghalensis</td>\n",
       "      <td>Great Smoky Mountains National Park</td>\n",
       "      <td>68</td>\n",
       "    </tr>\n",
       "    <tr>\n",
       "      <th>1</th>\n",
       "      <td>Neovison vison</td>\n",
       "      <td>Great Smoky Mountains National Park</td>\n",
       "      <td>77</td>\n",
       "    </tr>\n",
       "    <tr>\n",
       "      <th>2</th>\n",
       "      <td>Prunus subcordata</td>\n",
       "      <td>Yosemite National Park</td>\n",
       "      <td>138</td>\n",
       "    </tr>\n",
       "    <tr>\n",
       "      <th>3</th>\n",
       "      <td>Abutilon theophrasti</td>\n",
       "      <td>Bryce National Park</td>\n",
       "      <td>84</td>\n",
       "    </tr>\n",
       "    <tr>\n",
       "      <th>4</th>\n",
       "      <td>Githopsis specularioides</td>\n",
       "      <td>Great Smoky Mountains National Park</td>\n",
       "      <td>85</td>\n",
       "    </tr>\n",
       "  </tbody>\n",
       "</table>\n",
       "</div>"
      ],
      "text/plain": [
       "            scientific_name                            park_name  observations\n",
       "0        Vicia benghalensis  Great Smoky Mountains National Park            68\n",
       "1            Neovison vison  Great Smoky Mountains National Park            77\n",
       "2         Prunus subcordata               Yosemite National Park           138\n",
       "3      Abutilon theophrasti                  Bryce National Park            84\n",
       "4  Githopsis specularioides  Great Smoky Mountains National Park            85"
      ]
     },
     "execution_count": 22,
     "metadata": {},
     "output_type": "execute_result"
    }
   ],
   "source": [
    "#Load data of sightings of different species\n",
    "\n",
    "observations = pd.read_csv('observations.csv')\n",
    "observations.head()"
   ]
  },
  {
   "cell_type": "code",
   "execution_count": 23,
   "metadata": {},
   "outputs": [
    {
     "name": "stdout",
     "output_type": "stream",
     "text": [
      "     category          scientific_name  \\\n",
      "3      Mammal               Ovis aries   \n",
      "3014   Mammal          Ovis canadensis   \n",
      "4446   Mammal  Ovis canadensis sierrae   \n",
      "\n",
      "                                           common_names conservation_status  \\\n",
      "3     Domestic Sheep, Mouflon, Red Sheep, Sheep (Feral)     No Intervention   \n",
      "3014                       Bighorn Sheep, Bighorn Sheep  Species of Concern   \n",
      "4446                        Sierra Nevada Bighorn Sheep          Endangered   \n",
      "\n",
      "      is_protected  is_sheep  \n",
      "3            False      True  \n",
      "3014          True      True  \n",
      "4446          True      True  \n"
     ]
    }
   ],
   "source": [
    "#Identify which rows of species are referring to sheeps\n",
    "\n",
    "species['is_sheep'] = species.common_names.apply(lambda x: True if 'Sheep' in x else False)\n",
    "sheeps = species[species['is_sheep'] == True]\n",
    "\n",
    "sheep_species = species[(species['is_sheep'] == True) & (species['category'] == 'Mammal')]\n",
    "print(sheep_species.head())"
   ]
  },
  {
   "cell_type": "code",
   "execution_count": 24,
   "metadata": {},
   "outputs": [
    {
     "name": "stdout",
     "output_type": "stream",
     "text": [
      "  category  scientific_name  \\\n",
      "0   Mammal       Ovis aries   \n",
      "1   Mammal       Ovis aries   \n",
      "2   Mammal       Ovis aries   \n",
      "3   Mammal       Ovis aries   \n",
      "4   Mammal  Ovis canadensis   \n",
      "\n",
      "                                        common_names conservation_status  \\\n",
      "0  Domestic Sheep, Mouflon, Red Sheep, Sheep (Feral)     No Intervention   \n",
      "1  Domestic Sheep, Mouflon, Red Sheep, Sheep (Feral)     No Intervention   \n",
      "2  Domestic Sheep, Mouflon, Red Sheep, Sheep (Feral)     No Intervention   \n",
      "3  Domestic Sheep, Mouflon, Red Sheep, Sheep (Feral)     No Intervention   \n",
      "4                       Bighorn Sheep, Bighorn Sheep  Species of Concern   \n",
      "\n",
      "   is_protected  is_sheep                            park_name  observations  \n",
      "0         False      True               Yosemite National Park           126  \n",
      "1         False      True  Great Smoky Mountains National Park            76  \n",
      "2         False      True                  Bryce National Park           119  \n",
      "3         False      True            Yellowstone National Park           221  \n",
      "4          True      True            Yellowstone National Park           219  \n"
     ]
    }
   ],
   "source": [
    "#Merge sheep_species with observations to get observations of sheeps\n",
    "\n",
    "sheep_observations = pd.merge(sheep_species, observations, how='left', left_on='scientific_name', right_on='scientific_name')\n",
    "print(sheep_observations.head())"
   ]
  },
  {
   "cell_type": "code",
   "execution_count": 25,
   "metadata": {},
   "outputs": [
    {
     "name": "stdout",
     "output_type": "stream",
     "text": [
      "                             park_name  observations\n",
      "0                  Bryce National Park           250\n",
      "1  Great Smoky Mountains National Park           149\n",
      "2            Yellowstone National Park           507\n",
      "3               Yosemite National Park           282\n"
     ]
    }
   ],
   "source": [
    "#Calculate amount of sheep observations at each national park\n",
    "\n",
    "obs_by_park = sheep_observations.groupby('park_name').observations.sum().reset_index()\n",
    "print(obs_by_park.head())"
   ]
  },
  {
   "cell_type": "code",
   "execution_count": 37,
   "metadata": {},
   "outputs": [
    {
     "data": {
      "image/png": "[encoded data removed]",
      "text/plain": [
       "<Figure size 864x288 with 1 Axes>"
      ]
     },
     "metadata": {
      "needs_background": "light"
     },
     "output_type": "display_data"
    }
   ],
   "source": [
    "#Bar chart showing the different number of observations per week at each park\n",
    "\n",
    "plt.figure(figsize=(12,4))\n",
    "ax = plt.subplot()\n",
    "plt.bar(range(len(obs_by_park.observations)),obs_by_park.observations.values, color='green')\n",
    "ax.set_xticks(range(len(obs_by_park.observations)))\n",
    "ax.set_xticklabels(obs_by_park.park_name.values)\n",
    "plt.ylabel('Number of Observations')\n",
    "plt.title('Observations of Sheep per Week')\n",
    "plt.show()"
   ]
  },
  {
   "cell_type": "code",
   "execution_count": 27,
   "metadata": {},
   "outputs": [],
   "source": [
    "#Sample size calculation for the foot and mouth disease reduction program test:\n",
    "#Baseline conversion rate: 15% of sheep at Bryce National Park have foot and mouth disease\n",
    "#Minimum detectable effect: Detect reductions of at least 5 percentage points\n",
    "#Statistical significance to use: 90%\n",
    "\n",
    "#Sample size to use is 39000\n"
   ]
  },
  {
   "cell_type": "code",
   "execution_count": 33,
   "metadata": {},
   "outputs": [
    {
     "name": "stdout",
     "output_type": "stream",
     "text": [
      "156.0\n",
      "76.92307692307692\n",
      "261.744966442953\n",
      "138.29787234042553\n"
     ]
    }
   ],
   "source": [
    "#How many weeks should we observe sheep at Bryce National Park in order to observe enough sheep\n",
    "\n",
    "bryceweeksofobs = 39000 / 250 \n",
    "print(bryceweeksofobs)\n",
    "\n",
    "#How many weeks should we observe sheep at Yellowstone National Park in order to observe enough sheep\n",
    "\n",
    "yellowstoneweeksofobs = 39000 / 507\n",
    "print(yellowstoneweeksofobs)\n",
    "\n",
    "#How many weeks should we observe sheep at Great Smoky Mountains National Park in order to observe enough sheep\n",
    "\n",
    "gsmweeksofobs = 39000 / 149\n",
    "print(gsmweeksofobs)\n",
    "\n",
    "#How many weeks should we observe sheep at Yosemite National Park in order to observe enough sheep\n",
    "\n",
    "yosemiteweeksofobs = 39000 / 282\n",
    "print(yosemiteweeksofobs)"
   ]
  }
 ],
 "metadata": {
  "interpreter": {
   "hash": "477180c4993d922ed29823b77612ca7825208eb41751a273dc67844afc52b120"
  },
  "kernelspec": {
   "display_name": "Python 3.8.8 ('base')",
   "language": "python",
   "name": "python3"
  },
  "language_info": {
   "codemirror_mode": {
    "name": "ipython",
    "version": 3
   },
   "file_extension": ".py",
   "mimetype": "text/x-python",
   "name": "python",
   "nbconvert_exporter": "python",
   "pygments_lexer": "ipython3",
   "version": "3.8.8"
  },
  "orig_nbformat": 4
 },
 "nbformat": 4,
 "nbformat_minor": 2
}
